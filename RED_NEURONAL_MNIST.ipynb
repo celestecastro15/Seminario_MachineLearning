{
  "cells": [
    {
      "cell_type": "markdown",
      "metadata": {
        "id": "view-in-github",
        "colab_type": "text"
      },
      "source": [
        "<a href=\"https://colab.research.google.com/github/celestecastro15/Seminario_MachineLearning/blob/main/RED_NEURONAL_MNIST.ipynb\" target=\"_parent\"><img src=\"https://colab.research.google.com/assets/colab-badge.svg\" alt=\"Open In Colab\"/></a>"
      ]
    },
    {
      "cell_type": "markdown",
      "metadata": {
        "id": "yWiCZthWJ71U"
      },
      "source": [
        "# Red Neuronal para clasificación de dígitos."
      ]
    },
    {
      "cell_type": "code",
      "execution_count": null,
      "metadata": {
        "id": "BWdZeepWJ71a"
      },
      "outputs": [],
      "source": [
        "import torch\n",
        "import torchvision\n",
        "from torchvision import datasets, transforms\n",
        "from torch import nn, optim\n",
        "import numpy as np\n",
        "import matplotlib.pyplot as plt\n",
        "import os "
      ]
    },
    {
      "cell_type": "code",
      "execution_count": null,
      "metadata": {
        "id": "Cf32Kz-XJ71c"
      },
      "outputs": [],
      "source": [
        "path = os.getcwd()"
      ]
    },
    {
      "cell_type": "code",
      "execution_count": null,
      "metadata": {
        "id": "8jSmj_fgJ71d"
      },
      "outputs": [],
      "source": [
        " "
      ]
    },
    {
      "cell_type": "code",
      "execution_count": null,
      "metadata": {
        "id": "2bv95fLUJ71d"
      },
      "outputs": [],
      "source": [
        "#Descargamos el conjunto de datos\n",
        "trainset = datasets.MNIST(path,download=True, train=True, transform=transforms.ToTensor())\n",
        "valset = datasets.MNIST(path,download=True, train=False, transform=transforms.ToTensor())"
      ]
    },
    {
      "cell_type": "code",
      "execution_count": null,
      "metadata": {
        "id": "0OULcddBJ71e"
      },
      "outputs": [],
      "source": [
        "trainloader = torch.utils.data.DataLoader(trainset, batch_size=64, shuffle=True)\n",
        "valloader = torch.utils.data.DataLoader(valset, batch_size=10000, shuffle=False)"
      ]
    },
    {
      "cell_type": "code",
      "execution_count": null,
      "metadata": {
        "id": "D64wUuw8J71f",
        "outputId": "db4d61f2-ddf0-413c-f7bb-3ce95d6a0228"
      },
      "outputs": [
        {
          "data": {
            "text/plain": [
              "<torch.utils.data.dataloader.DataLoader at 0x7fb2886004d0>"
            ]
          },
          "execution_count": 47,
          "metadata": {},
          "output_type": "execute_result"
        }
      ],
      "source": [
        "trainloader"
      ]
    },
    {
      "cell_type": "code",
      "execution_count": null,
      "metadata": {
        "id": "YXYSymWEJ71g",
        "outputId": "dc3e1cd7-56d7-432d-9c84-a5629dbe66d1"
      },
      "outputs": [
        {
          "ename": "TypeError",
          "evalue": "'DataLoader' object is not subscriptable",
          "output_type": "error",
          "traceback": [
            "\u001b[0;31m---------------------------------------------------------------------------\u001b[0m",
            "\u001b[0;31mTypeError\u001b[0m                                 Traceback (most recent call last)",
            "\u001b[0;32m<ipython-input-48-36b5d26c01af>\u001b[0m in \u001b[0;36m<module>\u001b[0;34m\u001b[0m\n\u001b[0;32m----> 1\u001b[0;31m \u001b[0mtrainloader\u001b[0m\u001b[0;34m[\u001b[0m\u001b[0;36m0\u001b[0m\u001b[0;34m]\u001b[0m\u001b[0;34m\u001b[0m\u001b[0;34m\u001b[0m\u001b[0m\n\u001b[0m",
            "\u001b[0;31mTypeError\u001b[0m: 'DataLoader' object is not subscriptable"
          ]
        }
      ],
      "source": [
        "trainloader[0]"
      ]
    },
    {
      "cell_type": "code",
      "execution_count": null,
      "metadata": {
        "id": "KImgvajOJ71h"
      },
      "outputs": [],
      "source": [
        "a = next(iter(trainloader))"
      ]
    },
    {
      "cell_type": "code",
      "execution_count": null,
      "metadata": {
        "id": "lcK3L7Z2J71j",
        "outputId": "7c4d1a37-ba91-43e6-ab94-c3a16f4f1b9f"
      },
      "outputs": [
        {
          "data": {
            "text/plain": [
              "2"
            ]
          },
          "execution_count": 51,
          "metadata": {},
          "output_type": "execute_result"
        }
      ],
      "source": [
        "len(a)"
      ]
    },
    {
      "cell_type": "code",
      "execution_count": null,
      "metadata": {
        "id": "8GyXhzR-J71k",
        "outputId": "3e87a5e1-3822-47f7-80f2-62bcb8a2ff8e"
      },
      "outputs": [
        {
          "data": {
            "text/plain": [
              "torch.Size([1, 28, 28])"
            ]
          },
          "execution_count": 88,
          "metadata": {},
          "output_type": "execute_result"
        }
      ],
      "source": [
        "a[0][0].shape"
      ]
    },
    {
      "cell_type": "code",
      "execution_count": null,
      "metadata": {
        "id": "b8LPIfyGJ71l",
        "outputId": "cc2daa46-8bc1-4e1e-c319-0f1557df188d"
      },
      "outputs": [
        {
          "data": {
            "text/plain": [
              "tensor([6, 4, 9, 1, 5, 2, 4, 0, 1, 4, 6, 2, 9, 5, 0, 0, 1, 1, 6, 1, 2, 3, 0, 3,\n",
              "        8, 6, 4, 4, 0, 6, 2, 0, 9, 2, 7, 9, 4, 3, 2, 9, 0, 1, 1, 7, 2, 4, 2, 2,\n",
              "        5, 3, 0, 4, 2, 0, 2, 9, 3, 4, 1, 9, 7, 1, 8, 9])"
            ]
          },
          "execution_count": 53,
          "metadata": {},
          "output_type": "execute_result"
        }
      ],
      "source": [
        "a[1]"
      ]
    },
    {
      "cell_type": "code",
      "execution_count": null,
      "metadata": {
        "id": "vqal6g6kJ71m",
        "outputId": "bb7c62fc-8d05-4497-b49f-847cf99ed5e0"
      },
      "outputs": [
        {
          "data": {
            "text/plain": [
              "torch.Size([1, 28, 28])"
            ]
          },
          "execution_count": 54,
          "metadata": {},
          "output_type": "execute_result"
        }
      ],
      "source": [
        "a[0][0].shape"
      ]
    },
    {
      "cell_type": "code",
      "execution_count": null,
      "metadata": {
        "id": "fhCXGQL4J71m",
        "outputId": "04b22128-9771-44eb-a92d-11076c0da3a1"
      },
      "outputs": [
        {
          "data": {
            "text/plain": [
              "<matplotlib.image.AxesImage at 0x7fb287f95a50>"
            ]
          },
          "execution_count": 59,
          "metadata": {},
          "output_type": "execute_result"
        },
        {
          "data": {
            "image/png": "[encoded data removed]",
            "text/plain": [
              "<Figure size 576x504 with 1 Axes>"
            ]
          },
          "metadata": {},
          "output_type": "display_data"
        }
      ],
      "source": [
        "plt.imshow(a[0][2].reshape(28,28), cmap =\"gray\")"
      ]
    },
    {
      "cell_type": "code",
      "execution_count": null,
      "metadata": {
        "id": "2bYulj3YJ71n"
      },
      "outputs": [],
      "source": [
        "images_batch1 = [i for i,_ in trainloader]"
      ]
    },
    {
      "cell_type": "code",
      "execution_count": null,
      "metadata": {
        "id": "NpBzJrRFJ71n",
        "outputId": "fb7f23c2-2c02-4693-e32e-cd98a0761de4"
      },
      "outputs": [
        {
          "data": {
            "text/plain": [
              "938"
            ]
          },
          "execution_count": 61,
          "metadata": {},
          "output_type": "execute_result"
        }
      ],
      "source": [
        "len(images_batch1)"
      ]
    },
    {
      "cell_type": "code",
      "execution_count": null,
      "metadata": {
        "id": "FkCzGdg0J71o",
        "outputId": "f4438ad1-3034-46e9-bc4d-802c77e07a4a"
      },
      "outputs": [
        {
          "data": {
            "text/plain": [
              "60032"
            ]
          },
          "execution_count": 62,
          "metadata": {},
          "output_type": "execute_result"
        }
      ],
      "source": [
        "938*64"
      ]
    },
    {
      "cell_type": "code",
      "execution_count": null,
      "metadata": {
        "id": "adpIKBYaJ71p",
        "outputId": "e69ac740-5214-42e2-b0d5-b865cee3e85b"
      },
      "outputs": [
        {
          "data": {
            "text/plain": [
              "torch.Size([64, 1, 28, 28])"
            ]
          },
          "execution_count": 64,
          "metadata": {},
          "output_type": "execute_result"
        }
      ],
      "source": [
        "images_batch1[0].shape"
      ]
    },
    {
      "cell_type": "code",
      "execution_count": null,
      "metadata": {
        "id": "dw4xlgQNJ71p",
        "outputId": "a88aa6e9-3a4e-4dab-ad34-10f75c9e914d"
      },
      "outputs": [
        {
          "data": {
            "image/png": "[encoded data removed]",
            "text/plain": [
              "<Figure size 720x720 with 25 Axes>"
            ]
          },
          "metadata": {},
          "output_type": "display_data"
        }
      ],
      "source": [
        "plt.figure(figsize=(10,10))\n",
        "for i in range(25):\n",
        "    plt.subplot(5,5,i+1)\n",
        "    plt.xticks([])\n",
        "    plt.yticks([])\n",
        "    plt.grid(False)\n",
        "    plt.imshow(images_batch1[1][i].reshape(28,28), cmap=plt.cm.binary)\n",
        "    #plt.xlabel(class_names[labels_batch1[i]])\n",
        "plt.show()"
      ]
    },
    {
      "cell_type": "code",
      "execution_count": null,
      "metadata": {
        "id": "tchJuJMrJ71q"
      },
      "outputs": [],
      "source": [
        "class NN_digits(nn.Module):\n",
        "    def __init__(self):\n",
        "        super().__init__()\n",
        "        self.fc1 = nn.Linear(28*28,128)\n",
        "        self.fc2 = nn.Linear(128,64)\n",
        "        self.fc3 = nn.Linear(64,10)\n",
        "        \n",
        "    def forward(self, X):\n",
        "        l1 = torch.sigmoid(self.fc1(X))\n",
        "        l2 = torch.sigmoid(self.fc2(l1))\n",
        "        l3 = self.fc3(l2)\n",
        "        return l3 "
      ]
    },
    {
      "cell_type": "code",
      "execution_count": null,
      "metadata": {
        "id": "XpXJoLV5J71r"
      },
      "outputs": [],
      "source": [
        "iteraciones = 7"
      ]
    },
    {
      "cell_type": "code",
      "execution_count": null,
      "metadata": {
        "id": "KDd3GT1RJ71s"
      },
      "outputs": [],
      "source": [
        "model = NN_digits()\n",
        "optimizer = torch.optim.SGD(model.parameters(), lr = 0.1)\n",
        "loss = torch.nn.CrossEntropyLoss()"
      ]
    },
    {
      "cell_type": "code",
      "execution_count": null,
      "metadata": {
        "id": "5SctgV0RJ71s",
        "outputId": "1ac6d7f0-15af-4905-ea22-704cac2e0f33"
      },
      "outputs": [
        {
          "name": "stdout",
          "output_type": "stream",
          "text": [
            "iteración 1 , error: 1.2433890104293823\n",
            "iteración 2 , error: 0.4576733112335205\n",
            "iteración 3 , error: 0.37763872742652893\n",
            "iteración 4 , error: 0.46224936842918396\n",
            "iteración 5 , error: 0.30453312397003174\n",
            "iteración 6 , error: 0.41900572180747986\n",
            "iteración 7 , error: 0.09879234433174133\n"
          ]
        }
      ],
      "source": [
        "for i in range(iteraciones):\n",
        "    for image, label in trainloader:\n",
        "        image = image.reshape(-1,28*28)\n",
        "        \n",
        "        optimizer.zero_grad()\n",
        "        y = model(image)\n",
        "        \n",
        "        loss_1 = loss(y, label)\n",
        "        loss_1.backward()\n",
        "        \n",
        "        optimizer.step()\n",
        "        \n",
        "    print(\"iteración\", i+1, \", error:\", loss_1.item())"
      ]
    },
    {
      "cell_type": "code",
      "execution_count": null,
      "metadata": {
        "id": "vNhyBPRgJ71t",
        "outputId": "c835e7f3-dab2-49da-a897-0f1e828249f9"
      },
      "outputs": [
        {
          "data": {
            "text/plain": [
              "tensor([ 0.8289, -4.1427,  2.2419, -2.4930,  3.3009,  2.7735,  8.9459, -7.8423,\n",
              "        -0.1732, -3.6948], grad_fn=<AddBackward0>)"
            ]
          },
          "execution_count": 90,
          "metadata": {},
          "output_type": "execute_result"
        }
      ],
      "source": [
        "model(a[0][0].reshape(28*28))"
      ]
    },
    {
      "cell_type": "code",
      "execution_count": null,
      "metadata": {
        "id": "BD4c1UpIJ71t"
      },
      "outputs": [],
      "source": [
        "soft = nn.Softmax(dim = 1)"
      ]
    },
    {
      "cell_type": "code",
      "execution_count": null,
      "metadata": {
        "id": "b6Y-jnsGJ71u",
        "outputId": "6812cb57-62b6-4c80-fa2e-b0b9e25046c9"
      },
      "outputs": [
        {
          "data": {
            "text/plain": [
              "tensor([[2.9628e-04, 2.0539e-06, 1.2173e-03, 1.0691e-05, 3.5099e-03, 2.0713e-03,\n",
              "         9.9278e-01, 5.0796e-08, 1.0877e-04, 3.2142e-06],\n",
              "        [8.2463e-05, 9.6991e-08, 6.9472e-05, 1.2451e-06, 9.8408e-01, 3.3706e-04,\n",
              "         1.1583e-03, 1.1446e-04, 1.6056e-04, 1.3996e-02],\n",
              "        [1.9784e-03, 4.2014e-05, 4.1155e-03, 6.4872e-03, 4.7008e-01, 9.0184e-02,\n",
              "         3.2380e-03, 5.2811e-04, 1.8127e-01, 2.4208e-01],\n",
              "        [9.0798e-09, 9.8834e-01, 2.9727e-03, 8.7898e-04, 3.5042e-05, 4.0825e-04,\n",
              "         3.9947e-04, 3.0002e-05, 6.8946e-03, 4.4073e-05],\n",
              "        [2.0828e-04, 1.9851e-04, 4.8769e-05, 1.0334e-01, 3.1833e-03, 3.1681e-01,\n",
              "         3.6825e-06, 2.4285e-02, 2.9918e-02, 5.2201e-01],\n",
              "        [2.9404e-04, 8.8676e-04, 9.1042e-01, 3.0079e-03, 4.9436e-05, 2.8158e-03,\n",
              "         2.4288e-02, 5.8356e-07, 5.8234e-02, 6.1550e-06],\n",
              "        [3.8028e-05, 6.3038e-07, 7.0371e-04, 5.4803e-07, 9.7889e-01, 7.4405e-05,\n",
              "         1.7039e-02, 1.6759e-04, 3.8701e-05, 3.0490e-03],\n",
              "        [9.8531e-01, 6.9152e-09, 2.0741e-04, 1.1683e-04, 3.9950e-07, 1.4235e-02,\n",
              "         9.4991e-06, 4.0392e-05, 7.4079e-05, 1.0014e-05],\n",
              "        [2.3223e-06, 1.1426e-01, 3.4609e-04, 1.3999e-01, 2.9128e-02, 6.5865e-02,\n",
              "         1.3667e-04, 6.6021e-02, 2.8347e-02, 5.5590e-01],\n",
              "        [2.1342e-03, 1.0490e-06, 4.2091e-02, 9.1775e-06, 8.3878e-01, 2.6116e-04,\n",
              "         1.1110e-01, 2.0549e-04, 5.0789e-04, 4.9022e-03],\n",
              "        [1.1097e-04, 7.9234e-04, 3.4008e-02, 2.1465e-04, 4.1905e-03, 8.9808e-03,\n",
              "         8.9764e-01, 1.7005e-07, 5.4021e-02, 3.7162e-05],\n",
              "        [3.5469e-04, 2.3272e-04, 8.2105e-01, 4.8447e-03, 8.1473e-04, 9.3126e-04,\n",
              "         1.7044e-01, 2.3347e-06, 1.3261e-03, 9.7108e-06],\n",
              "        [2.4007e-06, 4.2971e-05, 1.6457e-04, 2.3232e-04, 7.4164e-02, 2.4083e-04,\n",
              "         1.4822e-05, 9.4088e-03, 2.6668e-03, 9.1306e-01],\n",
              "        [1.7131e-04, 4.1433e-06, 1.0029e-06, 5.8774e-04, 1.5034e-03, 9.7723e-01,\n",
              "         3.2400e-05, 5.7562e-06, 1.7900e-02, 2.5595e-03],\n",
              "        [9.9761e-01, 8.5051e-10, 1.3597e-04, 2.0610e-05, 4.1418e-07, 2.1942e-03,\n",
              "         1.9201e-05, 1.5701e-05, 3.3877e-06, 1.4344e-06],\n",
              "        [9.6432e-01, 1.0360e-07, 3.7818e-03, 9.7678e-05, 4.9716e-04, 2.6269e-02,\n",
              "         3.3908e-03, 7.6033e-05, 1.2389e-03, 3.3006e-04],\n",
              "        [1.3955e-07, 9.6502e-01, 1.6929e-02, 2.7779e-03, 8.8817e-06, 9.5319e-04,\n",
              "         2.6911e-04, 1.2371e-04, 1.3868e-02, 4.8998e-05],\n",
              "        [8.7572e-05, 2.5328e-04, 6.0083e-05, 5.2444e-03, 4.2188e-01, 5.9714e-02,\n",
              "         4.8512e-04, 2.0658e-01, 2.4531e-04, 3.0545e-01],\n",
              "        [2.1428e-05, 1.1472e-05, 2.6998e-03, 2.9370e-06, 4.3309e-02, 4.3860e-04,\n",
              "         9.5293e-01, 1.3990e-07, 5.6448e-04, 2.3490e-05],\n",
              "        [7.5778e-09, 9.9048e-01, 7.5219e-04, 5.3538e-03, 2.9684e-05, 6.1138e-04,\n",
              "         3.0640e-05, 9.1453e-04, 1.5689e-03, 2.5583e-04],\n",
              "        [2.8072e-06, 6.5095e-02, 7.9221e-01, 2.9349e-02, 3.6486e-06, 4.6468e-04,\n",
              "         1.1164e-04, 2.8585e-05, 1.1269e-01, 4.7009e-05],\n",
              "        [1.6705e-04, 2.2047e-05, 1.1358e-03, 9.9467e-01, 9.2128e-08, 2.7514e-03,\n",
              "         1.1773e-07, 1.2166e-04, 1.0235e-03, 1.0729e-04],\n",
              "        [9.7668e-01, 9.6865e-09, 3.7009e-04, 6.2596e-05, 6.8043e-06, 2.2504e-02,\n",
              "         7.7608e-05, 2.0674e-05, 2.5032e-04, 2.7701e-05],\n",
              "        [2.9087e-02, 5.0491e-05, 4.2163e-03, 2.4290e-01, 5.4979e-04, 7.0196e-01,\n",
              "         4.8075e-03, 4.0574e-05, 1.5407e-02, 9.7736e-04],\n",
              "        [5.1784e-06, 5.6312e-02, 4.8834e-03, 1.0468e-01, 1.7713e-04, 3.3791e-02,\n",
              "         1.9054e-04, 6.2143e-05, 7.9550e-01, 4.4028e-03],\n",
              "        [4.4221e-04, 8.3008e-07, 5.6994e-03, 5.3363e-07, 2.6256e-03, 2.4369e-04,\n",
              "         9.9085e-01, 8.5690e-08, 1.3354e-04, 2.5088e-06],\n",
              "        [1.7215e-05, 3.3201e-07, 1.7452e-04, 5.9160e-05, 9.9248e-01, 3.8476e-04,\n",
              "         1.7889e-03, 3.2047e-05, 7.8942e-05, 4.9802e-03],\n",
              "        [4.7884e-07, 2.9236e-04, 1.2459e-04, 3.7351e-05, 9.7951e-01, 1.7526e-03,\n",
              "         2.4420e-03, 9.6668e-05, 3.3354e-03, 1.2408e-02],\n",
              "        [9.5631e-01, 7.9671e-08, 3.0040e-02, 1.7423e-04, 1.2645e-04, 5.4386e-03,\n",
              "         2.6119e-03, 1.5053e-05, 5.0453e-03, 2.4260e-04],\n",
              "        [6.9902e-05, 2.1184e-06, 1.5423e-03, 2.3756e-06, 2.1055e-03, 5.3047e-04,\n",
              "         9.9563e-01, 1.4224e-08, 1.1158e-04, 9.8413e-07],\n",
              "        [1.8101e-06, 8.4944e-02, 8.5374e-01, 5.8113e-02, 3.0873e-05, 2.1679e-04,\n",
              "         1.7137e-03, 7.6239e-04, 4.5816e-04, 2.3326e-05],\n",
              "        [9.8283e-01, 2.7440e-08, 7.3934e-03, 1.2494e-04, 1.2935e-04, 6.2390e-03,\n",
              "         2.1914e-03, 1.3095e-05, 9.4513e-04, 1.3675e-04],\n",
              "        [7.8200e-07, 1.7126e-02, 1.4990e-04, 3.4594e-03, 8.0293e-02, 9.7449e-03,\n",
              "         7.6790e-05, 4.7030e-02, 1.7888e-02, 8.2423e-01],\n",
              "        [1.6156e-04, 6.7777e-06, 9.9850e-01, 4.6066e-04, 1.7168e-06, 7.4555e-06,\n",
              "         1.3521e-04, 2.4087e-06, 7.1663e-04, 3.8366e-06],\n",
              "        [3.3177e-06, 1.8099e-01, 3.8130e-01, 1.8259e-02, 2.3655e-03, 3.8836e-04,\n",
              "         9.6583e-05, 2.9664e-01, 3.8464e-02, 8.1495e-02],\n",
              "        [4.4467e-05, 2.5573e-05, 2.3842e-03, 5.7861e-02, 1.0459e-02, 5.4401e-04,\n",
              "         3.9805e-06, 1.7882e-01, 6.2098e-04, 7.4924e-01],\n",
              "        [9.6178e-08, 1.5657e-06, 4.0623e-06, 2.1691e-06, 9.8949e-01, 9.9957e-05,\n",
              "         1.2961e-04, 7.9553e-06, 3.0007e-04, 9.9692e-03],\n",
              "        [6.2454e-04, 7.5438e-05, 4.6830e-04, 8.3761e-01, 3.6893e-05, 1.4839e-01,\n",
              "         5.8296e-06, 2.7446e-04, 9.9183e-03, 2.5923e-03],\n",
              "        [3.4292e-02, 4.0057e-04, 7.5051e-01, 7.7111e-02, 7.6322e-06, 8.5392e-02,\n",
              "         4.2924e-02, 2.7771e-06, 9.3632e-03, 1.6919e-06],\n",
              "        [1.2336e-05, 7.9602e-05, 1.0590e-04, 7.2250e-03, 1.2828e-02, 2.9031e-03,\n",
              "         3.0909e-06, 3.1974e-02, 6.4978e-03, 9.3837e-01],\n",
              "        [9.9804e-01, 1.0437e-09, 7.3794e-04, 2.0424e-05, 3.5629e-07, 1.1270e-03,\n",
              "         1.2912e-05, 8.7769e-06, 4.5501e-05, 4.0888e-06],\n",
              "        [1.9483e-07, 9.4717e-01, 6.0198e-03, 2.2613e-03, 4.2599e-05, 3.1770e-03,\n",
              "         5.2679e-04, 1.0466e-04, 4.0517e-02, 1.7926e-04],\n",
              "        [8.7959e-09, 9.7648e-01, 5.2744e-04, 5.5881e-03, 5.7984e-05, 8.3553e-04,\n",
              "         9.0728e-06, 2.7209e-03, 1.1147e-02, 2.6384e-03],\n",
              "        [9.2315e-06, 3.8175e-04, 4.8409e-05, 2.3606e-04, 3.7931e-03, 3.6385e-03,\n",
              "         2.6680e-06, 6.5716e-01, 1.4115e-03, 3.3332e-01],\n",
              "        [5.9597e-05, 4.2814e-05, 9.8012e-01, 7.9375e-05, 1.6743e-05, 2.7917e-05,\n",
              "         1.9312e-02, 2.3497e-07, 3.4608e-04, 2.2183e-07],\n",
              "        [3.6490e-05, 6.8495e-07, 3.9042e-04, 8.7750e-06, 9.8379e-01, 1.3711e-04,\n",
              "         2.0205e-03, 1.2583e-03, 2.3764e-05, 1.2334e-02],\n",
              "        [9.5502e-04, 5.3532e-06, 9.9684e-01, 5.3435e-04, 2.3862e-06, 4.1171e-05,\n",
              "         1.4094e-03, 1.5088e-06, 2.1458e-04, 4.7931e-07],\n",
              "        [2.6546e-04, 3.8546e-05, 9.8487e-01, 3.5829e-03, 1.8248e-05, 6.3790e-05,\n",
              "         1.7300e-04, 1.3786e-05, 1.0853e-02, 1.2083e-04],\n",
              "        [4.7526e-03, 5.7765e-05, 2.7863e-05, 5.3462e-04, 4.4811e-04, 9.6511e-01,\n",
              "         3.4080e-05, 1.5034e-02, 7.7918e-03, 6.2079e-03],\n",
              "        [1.9569e-04, 7.0520e-05, 6.4188e-04, 9.7119e-01, 4.3178e-06, 2.6833e-02,\n",
              "         9.7319e-06, 3.8199e-05, 9.1183e-04, 1.0087e-04],\n",
              "        [9.8655e-01, 5.2617e-09, 5.8637e-04, 7.7345e-06, 3.2159e-05, 1.1407e-02,\n",
              "         6.3337e-04, 3.0413e-06, 7.4460e-04, 3.3283e-05],\n",
              "        [4.1808e-07, 2.1735e-02, 9.9653e-05, 8.6809e-03, 9.7752e-02, 1.6111e-02,\n",
              "         6.0293e-05, 1.5127e-02, 3.4046e-02, 8.0639e-01],\n",
              "        [1.9383e-04, 4.8059e-06, 9.9841e-01, 9.0133e-04, 6.7340e-08, 7.5353e-06,\n",
              "         3.9407e-05, 6.5852e-07, 4.4018e-04, 2.7460e-07],\n",
              "        [9.9059e-01, 8.2113e-09, 4.8847e-04, 4.5611e-05, 6.1476e-06, 8.3639e-03,\n",
              "         4.6457e-04, 1.2629e-05, 2.0797e-05, 4.0640e-06],\n",
              "        [2.2598e-06, 1.8535e-03, 9.9429e-01, 2.7007e-03, 6.8055e-08, 3.2757e-05,\n",
              "         2.9111e-04, 1.5518e-07, 8.2695e-04, 3.8175e-08],\n",
              "        [5.4672e-06, 2.6169e-05, 6.7698e-05, 9.4913e-04, 7.4111e-02, 8.3618e-04,\n",
              "         9.5757e-06, 2.2780e-02, 1.0241e-03, 9.0019e-01],\n",
              "        [3.5782e-06, 1.9451e-04, 3.3189e-04, 9.9358e-01, 4.2626e-06, 2.5967e-03,\n",
              "         3.6084e-07, 1.0760e-04, 2.2665e-03, 9.1351e-04],\n",
              "        [8.8996e-05, 7.1650e-07, 3.4970e-04, 3.0520e-06, 9.4190e-01, 3.6656e-04,\n",
              "         1.3988e-03, 2.1642e-04, 2.0942e-03, 5.3582e-02],\n",
              "        [2.5208e-08, 9.6735e-01, 1.2756e-02, 2.8165e-03, 1.6943e-05, 3.2537e-04,\n",
              "         5.5643e-05, 1.7634e-04, 1.6387e-02, 1.1274e-04],\n",
              "        [4.4400e-05, 3.6735e-06, 3.4514e-04, 4.1424e-04, 7.2654e-03, 1.7039e-04,\n",
              "         1.9472e-06, 9.6425e-02, 8.9008e-04, 8.9444e-01],\n",
              "        [2.1177e-05, 4.3284e-05, 2.3437e-02, 2.2119e-03, 3.1759e-05, 1.0946e-05,\n",
              "         1.1215e-07, 9.2430e-01, 4.6009e-04, 4.9479e-02],\n",
              "        [7.0629e-09, 9.9384e-01, 9.6805e-04, 1.5612e-03, 1.3675e-05, 4.5710e-04,\n",
              "         4.5129e-05, 2.2906e-04, 2.7960e-03, 8.9706e-05],\n",
              "        [6.3065e-04, 1.0875e-04, 5.2781e-03, 6.1940e-02, 1.1514e-05, 1.4174e-02,\n",
              "         4.6699e-06, 3.4849e-05, 9.1160e-01, 6.2207e-03],\n",
              "        [1.7491e-05, 7.1489e-05, 2.8272e-05, 2.4881e-03, 1.0931e-01, 2.1261e-02,\n",
              "         3.9501e-05, 5.9950e-03, 7.4065e-03, 8.5338e-01]],\n",
              "       grad_fn=<SoftmaxBackward>)"
            ]
          },
          "execution_count": 95,
          "metadata": {},
          "output_type": "execute_result"
        }
      ],
      "source": [
        "soft(model(a[0].reshape(64,28*28)))"
      ]
    },
    {
      "cell_type": "code",
      "execution_count": null,
      "metadata": {
        "id": "RT3Q-VFiJ71u"
      },
      "outputs": [],
      "source": [
        "model.eval()\n",
        "for im, lb in valloader:\n",
        "    im = im.reshape(-1,28*28)\n",
        "    y = model(im)\n",
        "    y_probs = soft(y)\n",
        "    y_pred = torch.argmax(y_probs, dim = 1)\n",
        "    prec = (lb == y_pred).sum().item()/10000"
      ]
    },
    {
      "cell_type": "code",
      "execution_count": null,
      "metadata": {
        "id": "3AR33Ug1J71v",
        "outputId": "fe5c1abd-01d7-4ccd-b4c4-2026e3f970a9"
      },
      "outputs": [
        {
          "data": {
            "text/plain": [
              "92.05"
            ]
          },
          "execution_count": 132,
          "metadata": {},
          "output_type": "execute_result"
        }
      ],
      "source": [
        "prec*100"
      ]
    },
    {
      "cell_type": "code",
      "execution_count": null,
      "metadata": {
        "id": "KNxPUCQIJ71v"
      },
      "outputs": [],
      "source": [
        ""
      ]
    },
    {
      "cell_type": "code",
      "execution_count": null,
      "metadata": {
        "id": "ifzA4dgmJ71v"
      },
      "outputs": [],
      "source": [
        ""
      ]
    },
    {
      "cell_type": "code",
      "execution_count": null,
      "metadata": {
        "id": "gl3RNgFPJ71v"
      },
      "outputs": [],
      "source": [
        ""
      ]
    },
    {
      "cell_type": "code",
      "execution_count": null,
      "metadata": {
        "id": "wlG2Ir-NJ71w"
      },
      "outputs": [],
      "source": [
        ""
      ]
    },
    {
      "cell_type": "code",
      "execution_count": null,
      "metadata": {
        "id": "3dig5reHJ71w"
      },
      "outputs": [],
      "source": [
        ""
      ]
    },
    {
      "cell_type": "code",
      "execution_count": null,
      "metadata": {
        "id": "ADH5Pnx8J71w"
      },
      "outputs": [],
      "source": [
        ""
      ]
    },
    {
      "cell_type": "code",
      "execution_count": null,
      "metadata": {
        "id": "dyfp5LHUJ71w"
      },
      "outputs": [],
      "source": [
        ""
      ]
    },
    {
      "cell_type": "code",
      "execution_count": null,
      "metadata": {
        "id": "hSvd02uIJ71w"
      },
      "outputs": [],
      "source": [
        ""
      ]
    },
    {
      "cell_type": "code",
      "execution_count": null,
      "metadata": {
        "id": "EWyfRkexJ71x"
      },
      "outputs": [],
      "source": [
        ""
      ]
    },
    {
      "cell_type": "code",
      "execution_count": null,
      "metadata": {
        "id": "0bMUVzwJJ71x"
      },
      "outputs": [],
      "source": [
        ""
      ]
    }
  ],
  "metadata": {
    "kernelspec": {
      "display_name": "Python 3",
      "language": "python",
      "name": "python3"
    },
    "language_info": {
      "codemirror_mode": {
        "name": "ipython",
        "version": 3
      },
      "file_extension": ".py",
      "mimetype": "text/x-python",
      "name": "python",
      "nbconvert_exporter": "python",
      "pygments_lexer": "ipython3",
      "version": "3.7.7"
    },
    "colab": {
      "name": "RED_NEURONAL_MNIST.ipynb",
      "provenance": [],
      "include_colab_link": true
    }
  },
  "nbformat": 4,
  "nbformat_minor": 0
}